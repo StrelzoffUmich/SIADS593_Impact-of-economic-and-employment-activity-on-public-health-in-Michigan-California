{
 "cells": [
  {
   "cell_type": "markdown",
   "id": "51ad8d74",
   "metadata": {},
   "source": [
    "# BRFSS Downloader Notebook\n",
    "\n",
    "> Download CDC BRFSS annual survey ZIPs (1990–2023) to a local folder for later parsing.\n",
    "\n",
    "**Output folder:** `data/raw/brfss_zips/`\n",
    "\n",
    "Source: https://www.cdc.gov/brfss/annual_data/annual_data.htm\n"
   ]
  },
  {
   "cell_type": "markdown",
   "id": "0376b901",
   "metadata": {},
   "source": [
    "## 1) Overview\n",
    "This notebook downloads **Behavioral Risk Factor Surveillance System (BRFSS)** annual survey archives from the CDC.\n",
    "\n",
    "- Each year is provided as a ZIP that contains a SAS XPORT (`.XPT`) file.\n",
    "- We **only download** here. Parsing to CSV/Parquet can be done in a separate step.\n",
    "- Re-runs are **resume-safe** — existing files are skipped.\n"
   ]
  },
  {
   "cell_type": "markdown",
   "id": "90bfe2e3",
   "metadata": {},
   "source": [
    "## 2) Setup"
   ]
  },
  {
   "cell_type": "code",
   "execution_count": 2,
   "id": "ce567bc1",
   "metadata": {},
   "outputs": [],
   "source": [
    "from pathlib import Path\n",
    "import requests\n",
    "\n",
    "# Output folder for ZIP files\n",
    "OUT_DIR = Path(\"data/raw/brfss_zips\")\n",
    "OUT_DIR.mkdir(parents=True, exist_ok=True)\n",
    "\n",
    "# Master URL dict (we extend decade by decade)\n",
    "BRFSS_URLS = {}\n",
    "\n",
    "def add_urls(new_dict):\n",
    "    \"\"\"Extend the BRFSS_URLS mapping with a new block of years; warn on duplicates.\"\"\"\n",
    "    overlap = set(new_dict).intersection(BRFSS_URLS)\n",
    "    if overlap:\n",
    "        print(\"⚠️ Warning: duplicate years found:\", overlap)\n",
    "    BRFSS_URLS.update(new_dict)\n",
    "\n",
    "def download_urls(url_dict):\n",
    "    \"\"\"Download all ZIPs for the provided mapping of year -> URL (skips existing).\"\"\"\n",
    "    for year, url in url_dict.items():\n",
    "        out_path = OUT_DIR / Path(url).name\n",
    "        if out_path.exists():\n",
    "            print(f\"{year}: already downloaded ({out_path.name})\")\n",
    "            continue\n",
    "        try:\n",
    "            print(f\"{year}: downloading…\")\n",
    "            resp = requests.get(url, timeout=180)\n",
    "            if resp.status_code == 200:\n",
    "                out_path.write_bytes(resp.content)\n",
    "                mb = round(out_path.stat().st_size / (1024*1024), 2)\n",
    "                print(f\"{year}: saved {out_path.name}, {mb} MB\")\n",
    "            else:\n",
    "                print(f\"{year}: failed with status {resp.status_code}\")\n",
    "        except Exception as e:\n",
    "            print(f\"{year}: error {e}\")"
   ]
  },
  {
   "cell_type": "markdown",
   "id": "42b75d11",
   "metadata": {},
   "source": [
    "## 3) (Optional) Quick sanity checks for a couple years\n",
    "Uncomment and run to verify your environment/network access."
   ]
  },
  {
   "cell_type": "code",
   "execution_count": 3,
   "id": "d4f561ea",
   "metadata": {},
   "outputs": [],
   "source": [
    "# # 1990 test\n",
    "# url = \"https://www.cdc.gov/brfss/annual_data/1990/files/CDBRFS90XPT.zip\"\n",
    "# resp = requests.get(url, timeout=60)\n",
    "# print(\"1990 status:\", resp.status_code, \"| size MB:\", round(len(resp.content)/(1024*1024),2))\n",
    "\n",
    "# # 1991 test\n",
    "# url = \"https://www.cdc.gov/brfss/annual_data/1991/files/CDBRFS91XPT.zip\"\n",
    "# resp = requests.get(url, timeout=60)\n",
    "# print(\"1991 status:\", resp.status_code, \"| size MB:\", round(len(resp.content)/(1024*1024),2))"
   ]
  },
  {
   "cell_type": "markdown",
   "id": "cc3395e5",
   "metadata": {},
   "source": [
    "## 4) Download by decade\n",
    "### 1990–1999"
   ]
  },
  {
   "cell_type": "code",
   "execution_count": 4,
   "id": "bb8ddb97",
   "metadata": {},
   "outputs": [
    {
     "name": "stdout",
     "output_type": "stream",
     "text": [
      "1990: downloading…\n",
      "1990: saved CDBRFS90XPT.zip, 8.79 MB\n",
      "1991: downloading…\n",
      "1991: saved CDBRFS91XPT.zip, 9.0 MB\n",
      "1992: downloading…\n",
      "1992: saved CDBRFS92XPT.zip, 9.78 MB\n",
      "1993: downloading…\n",
      "1993: saved CDBRFS93XPT.zip, 10.03 MB\n",
      "1994: downloading…\n",
      "1994: saved CDBRFS94XPT.zip, 11.89 MB\n",
      "1995: downloading…\n",
      "1995: saved CDBRFS95XPT.zip, 11.98 MB\n",
      "1996: downloading…\n",
      "1996: saved CDBRFS96XPT.zip, 16.25 MB\n",
      "1997: downloading…\n",
      "1997: saved CDBRFS97XPT.zip, 16.87 MB\n",
      "1998: downloading…\n",
      "1998: saved CDBRFS98XPT.zip, 21.42 MB\n",
      "1999: downloading…\n",
      "1999: saved CDBRFS99XPT.zip, 20.93 MB\n"
     ]
    }
   ],
   "source": [
    "add_urls({\n",
    "    1990: \"https://www.cdc.gov/brfss/annual_data/1990/files/CDBRFS90XPT.zip\",\n",
    "    1991: \"https://www.cdc.gov/brfss/annual_data/1991/files/CDBRFS91XPT.zip\",\n",
    "    1992: \"https://www.cdc.gov/brfss/annual_data/1992/files/CDBRFS92XPT.zip\",\n",
    "    1993: \"https://www.cdc.gov/brfss/annual_data/1993/files/CDBRFS93XPT.zip\",\n",
    "    1994: \"https://www.cdc.gov/brfss/annual_data/1994/files/CDBRFS94XPT.zip\",\n",
    "    1995: \"https://www.cdc.gov/brfss/annual_data/1995/files/CDBRFS95XPT.zip\",\n",
    "    1996: \"https://www.cdc.gov/brfss/annual_data/1996/files/CDBRFS96XPT.zip\",\n",
    "    1997: \"https://www.cdc.gov/brfss/annual_data/1997/files/CDBRFS97XPT.zip\",\n",
    "    1998: \"https://www.cdc.gov/brfss/annual_data/1998/files/CDBRFS98XPT.zip\",\n",
    "    1999: \"https://www.cdc.gov/brfss/annual_data/1999/files/CDBRFS99XPT.zip\",\n",
    "})\n",
    "download_urls({y: BRFSS_URLS[y] for y in range(1990, 2000)})"
   ]
  },
  {
   "cell_type": "markdown",
   "id": "56da0b61",
   "metadata": {},
   "source": [
    "### 2000–2009"
   ]
  },
  {
   "cell_type": "code",
   "execution_count": 5,
   "id": "937e3aa8",
   "metadata": {},
   "outputs": [
    {
     "name": "stdout",
     "output_type": "stream",
     "text": [
      "2000: downloading…\n",
      "2000: saved CDBRFS00XPT.ZIP, 25.84 MB\n",
      "2001: downloading…\n",
      "2001: saved CDBRFS01XPT.zip, 32.39 MB\n",
      "2002: downloading…\n",
      "2002: saved CDBRFS02XPT.ZIP, 46.27 MB\n",
      "2003: downloading…\n",
      "2003: saved CDBRFS03XPT.ZIP, 48.19 MB\n",
      "2004: downloading…\n",
      "2004: saved CDBRFS04XPT.zip, 41.42 MB\n",
      "2005: downloading…\n",
      "2005: saved CDBRFS05XPT.zip, 66.72 MB\n",
      "2006: downloading…\n",
      "2006: saved CDBRFS06XPT.ZIP, 60.78 MB\n",
      "2007: downloading…\n",
      "2007: saved CDBRFS07XPT.ZIP, 100.81 MB\n",
      "2008: downloading…\n",
      "2008: saved CDBRFS08XPT.ZIP, 78.57 MB\n",
      "2009: downloading…\n",
      "2009: saved CDBRFS09XPT.ZIP, 107.33 MB\n"
     ]
    }
   ],
   "source": [
    "add_urls({\n",
    "    2000: \"https://www.cdc.gov/brfss/annual_data/2000/files/CDBRFS00XPT.ZIP\",\n",
    "    2001: \"https://www.cdc.gov/brfss/annual_data/2001/files/CDBRFS01XPT.zip\",\n",
    "    2002: \"https://www.cdc.gov/brfss/annual_data/2002/files/CDBRFS02XPT.ZIP\",\n",
    "    2003: \"https://www.cdc.gov/brfss/annual_data/2003/files/CDBRFS03XPT.ZIP\",\n",
    "    2004: \"https://www.cdc.gov/brfss/annual_data/2004/files/CDBRFS04XPT.zip\",\n",
    "    2005: \"https://www.cdc.gov/brfss/annual_data/2005/files/CDBRFS05XPT.zip\",\n",
    "    2006: \"https://www.cdc.gov/brfss/annual_data/2006/files/CDBRFS06XPT.ZIP\",\n",
    "    2007: \"https://www.cdc.gov/brfss/annual_data/2007/files/CDBRFS07XPT.ZIP\",\n",
    "    2008: \"https://www.cdc.gov/brfss/annual_data/2008/files/CDBRFS08XPT.ZIP\",\n",
    "    2009: \"https://www.cdc.gov/brfss/annual_data/2009/files/CDBRFS09XPT.ZIP\",\n",
    "})\n",
    "download_urls({y: BRFSS_URLS[y] for y in range(2000, 2010)})"
   ]
  },
  {
   "cell_type": "markdown",
   "id": "19f23d6e",
   "metadata": {},
   "source": [
    "### 2010–2019"
   ]
  },
  {
   "cell_type": "code",
   "execution_count": 6,
   "id": "58e728e5",
   "metadata": {},
   "outputs": [
    {
     "name": "stdout",
     "output_type": "stream",
     "text": [
      "2010: downloading…\n",
      "2010: saved CDBRFS10XPT.zip, 96.21 MB\n",
      "2011: downloading…\n",
      "2011: saved LLCP2011XPT.ZIP, 125.45 MB\n",
      "2012: downloading…\n",
      "2012: saved LLCP2012XPT.ZIP, 90.99 MB\n",
      "2013: downloading…\n",
      "2013: saved LLCP2013XPT.ZIP, 123.0 MB\n",
      "2014: downloading…\n",
      "2014: saved LLCP2014XPT.ZIP, 68.9 MB\n",
      "2015: downloading…\n",
      "2015: saved LLCP2015XPT.zip, 94.26 MB\n",
      "2016: downloading…\n",
      "2016: saved LLCP2016XPT.zip, 79.5 MB\n",
      "2017: downloading…\n",
      "2017: saved LLCP2017XPT.zip, 101.79 MB\n",
      "2018: downloading…\n",
      "2018: saved LLCP2018XPT.zip, 69.48 MB\n",
      "2019: downloading…\n",
      "2019: saved LLCP2019XPT.zip, 93.43 MB\n"
     ]
    }
   ],
   "source": [
    "add_urls({\n",
    "    2010: \"https://www.cdc.gov/brfss/annual_data/2010/files/CDBRFS10XPT.zip\",\n",
    "    2011: \"https://www.cdc.gov/brfss/annual_data/2011/files/LLCP2011XPT.ZIP\",\n",
    "    2012: \"https://www.cdc.gov/brfss/annual_data/2012/files/LLCP2012XPT.ZIP\",\n",
    "    2013: \"https://www.cdc.gov/brfss/annual_data/2013/files/LLCP2013XPT.ZIP\",\n",
    "    2014: \"https://www.cdc.gov/brfss/annual_data/2014/files/LLCP2014XPT.ZIP\",\n",
    "    2015: \"https://www.cdc.gov/brfss/annual_data/2015/files/LLCP2015XPT.zip\",\n",
    "    2016: \"https://www.cdc.gov/brfss/annual_data/2016/files/LLCP2016XPT.zip\",\n",
    "    2017: \"https://www.cdc.gov/brfss/annual_data/2017/files/LLCP2017XPT.zip\",\n",
    "    2018: \"https://www.cdc.gov/brfss/annual_data/2018/files/LLCP2018XPT.zip\",\n",
    "    2019: \"https://www.cdc.gov/brfss/annual_data/2019/files/LLCP2019XPT.zip\",\n",
    "})\n",
    "download_urls({y: BRFSS_URLS[y] for y in range(2010, 2020)})"
   ]
  },
  {
   "cell_type": "markdown",
   "id": "3b7bcc1a",
   "metadata": {},
   "source": [
    "### 2020–2023"
   ]
  },
  {
   "cell_type": "code",
   "execution_count": 6,
   "id": "9d59d4a8",
   "metadata": {},
   "outputs": [
    {
     "name": "stdout",
     "output_type": "stream",
     "text": [
      "2020: downloading…\n",
      "2020: saved LLCP2020XPT.zip, 64.37 MB\n",
      "2021: downloading…\n",
      "2021: saved LLCP2021XPT.zip, 77.82 MB\n",
      "2022: downloading…\n",
      "2022: saved LLCP2022XPT.zip, 80.69 MB\n",
      "2023: downloading…\n",
      "2023: saved LLCP2023XPT.zip, 88.92 MB\n"
     ]
    }
   ],
   "source": [
    "add_urls({\n",
    "    2020: \"https://www.cdc.gov/brfss/annual_data/2020/files/LLCP2020XPT.zip\",\n",
    "    2021: \"https://www.cdc.gov/brfss/annual_data/2021/files/LLCP2021XPT.zip\",\n",
    "    2022: \"https://www.cdc.gov/brfss/annual_data/2022/files/LLCP2022XPT.zip\",\n",
    "    2023: \"https://www.cdc.gov/brfss/annual_data/2023/files/LLCP2023XPT.zip\",\n",
    "})\n",
    "download_urls({y: BRFSS_URLS[y] for y in range(2020, 2024)})"
   ]
  },
  {
   "cell_type": "markdown",
   "id": "8c38470a",
   "metadata": {},
   "source": [
    "## 5) Next steps (separate script, 02_parse_brfss.py)\n",
    "\n",
    "- Normalize schemas across years (e.g., `_STATE`, `_CNTY`, demographics), then save per-year CSV/Parquet to `data/raw/brfss_year/`.\n",
    "\n",
    "Run 02_parse_brfss_xpt.py next, with the following arguments. Make sure your terminal has changed directory to download_brfss before running."
   ]
  }
 ],
 "metadata": {
  "kernelspec": {
   "display_name": "BHR-CMI",
   "language": "python",
   "name": "python3"
  },
  "language_info": {
   "codemirror_mode": {
    "name": "ipython",
    "version": 3
   },
   "file_extension": ".py",
   "mimetype": "text/x-python",
   "name": "python",
   "nbconvert_exporter": "python",
   "pygments_lexer": "ipython3",
   "version": "3.13.5"
  }
 },
 "nbformat": 4,
 "nbformat_minor": 5
}
