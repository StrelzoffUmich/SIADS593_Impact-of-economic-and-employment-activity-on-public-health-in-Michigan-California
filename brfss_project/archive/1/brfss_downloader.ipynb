{
 "cells": [
  {
   "cell_type": "code",
   "execution_count": 9,
   "id": "558e2057-7291-4d3e-9d2e-7406a73d51df",
   "metadata": {},
   "outputs": [],
   "source": [
    "from pathlib import Path\n",
    "import io, zipfile, json\n",
    "import requests\n",
    "import pandas as pd\n",
    "import pyreadstat\n",
    "from tqdm import tqdm\n",
    "\n",
    "# ---------- config ----------\n",
    "YEAR_DIR = Path(\"data/raw/brfss_year\")\n",
    "YEAR_DIR.mkdir(parents=True, exist_ok=True)\n",
    "\n",
    "BRFSS_ZIP_URLS = {\n",
    "    1989: None,\n",
    "    1990: \"https://www.cdc.gov/brfss/annual_data/1990/files/CDBRFS90XPT.zip\",\n",
    "    1991: \"https://www.cdc.gov/brfss/annual_data/1991/files/CDBRFS91XPT.zip\",\n",
    "    1992: \"https://www.cdc.gov/brfss/annual_data/1992/files/CDBRFS92XPT.zip\",\n",
    "    1993: \"https://www.cdc.gov/brfss/annual_data/1993/files/CDBRFS93XPT.zip\",\n",
    "    1994: \"https://www.cdc.gov/brfss/annual_data/1994/files/CDBRFS94XPT.zip\",\n",
    "    1995: \"https://www.cdc.gov/brfss/annual_data/1995/files/CDBRFS95XPT.zip\",\n",
    "    1996: \"https://www.cdc.gov/brfss/annual_data/1996/files/CDBRFS96XPT.zip\",\n",
    "    1997: \"https://www.cdc.gov/brfss/annual_data/1997/files/CDBRFS97XPT.zip\",\n",
    "    1998: \"https://www.cdc.gov/brfss/annual_data/1998/files/CDBRFS98XPT.zip\",\n",
    "    1999: \"https://www.cdc.gov/brfss/annual_data/1999/files/CDBRFS99XPT.zip\",\n",
    "    2000: \"https://www.cdc.gov/brfss/annual_data/2000/files/CDBRFS00XPT.ZIP\",\n",
    "    2001: \"https://www.cdc.gov/brfss/annual_data/2001/files/CDBRFS01XPT.zip\",\n",
    "    2002: \"https://www.cdc.gov/brfss/annual_data/2002/files/CDBRFS02XPT.ZIP\",\n",
    "    2003: \"https://www.cdc.gov/brfss/annual_data/2003/files/CDBRFS03XPT.ZIP\",\n",
    "    2004: \"https://www.cdc.gov/brfss/annual_data/2004/files/CDBRFS04XPT.zip\",\n",
    "    2005: \"https://www.cdc.gov/brfss/annual_data/2005/files/CDBRFS05XPT.zip\",\n",
    "    2006: \"https://www.cdc.gov/brfss/annual_data/2006/files/CDBRFS06XPT.ZIP\",\n",
    "    2007: \"https://www.cdc.gov/brfss/annual_data/2007/files/CDBRFS07XPT.ZIP\",\n",
    "    2008: \"https://www.cdc.gov/brfss/annual_data/2008/files/CDBRFS08XPT.ZIP\",\n",
    "    2009: \"https://www.cdc.gov/brfss/annual_data/2009/files/CDBRFS09XPT.ZIP\",\n",
    "    2010: \"https://www.cdc.gov/brfss/annual_data/2010/files/CDBRFS10XPT.zip\",\n",
    "    2011: \"https://www.cdc.gov/brfss/annual_data/2011/files/LLCP2011XPT.ZIP\",\n",
    "    2012: \"https://www.cdc.gov/brfss/annual_data/2012/files/LLCP2012XPT.ZIP\",\n",
    "    2013: \"https://www.cdc.gov/brfss/annual_data/2013/files/LLCP2013XPT.ZIP\",\n",
    "    2014: \"https://www.cdc.gov/brfss/annual_data/2014/files/LLCP2014XPT.ZIP\",\n",
    "    2015: \"https://www.cdc.gov/brfss/annual_data/2015/files/LLCP2015XPT.zip\",\n",
    "    2016: \"https://www.cdc.gov/brfss/annual_data/2016/files/LLCP2016XPT.zip\",\n",
    "    2017: \"https://www.cdc.gov/brfss/annual_data/2017/files/LLCP2017XPT.zip\",\n",
    "    2018: \"https://www.cdc.gov/brfss/annual_data/2018/files/LLCP2018XPT.zip\",\n",
    "    2019: \"https://www.cdc.gov/brfss/annual_data/2019/files/LLCP2019XPT.zip\",\n",
    "    2020: \"https://www.cdc.gov/brfss/annual_data/2020/files/LLCP2020XPT.zip\",\n",
    "    2021: \"https://www.cdc.gov/brfss/annual_data/2021/files/LLCP2021XPT.zip\",\n",
    "    2022: \"https://www.cdc.gov/brfss/annual_data/2022/files/LLCP2022XPT.zip\",\n",
    "    2023: \"https://www.cdc.gov/brfss/annual_data/2023/files/LLCP2023XPT.zip\",\n",
    "}\n",
    "\n",
    "# ---------- helpers ----------\n",
    "def fetch_brfss_xpt(year: int) -> bytes | None:\n",
    "    \"\"\"\n",
    "    Returns raw XPT bytes for a year.\n",
    "    Handles ZIP that contains an XPT (most years) and a direct .XPT (rare).\n",
    "    \"\"\"\n",
    "    url = BRFSS_ZIP_URLS.get(year)\n",
    "    if not url:\n",
    "        return None\n",
    "\n",
    "    r = requests.get(url, timeout=180)\n",
    "    if r.status_code != 200:\n",
    "        return None\n",
    "\n",
    "    blob = r.content\n",
    "    # ZIP?\n",
    "    if blob[:2] == b\"PK\":\n",
    "        with zipfile.ZipFile(io.BytesIO(blob)) as zf:\n",
    "            # pick the first *.xpt\n",
    "            xpt_names = [n for n in zf.namelist() if n.lower().endswith(\".xpt\")]\n",
    "            if not xpt_names:\n",
    "                return None\n",
    "            with zf.open(xpt_names[0]) as f:\n",
    "                return f.read()\n",
    "\n",
    "    # Raw XPT (if CDC ever serves it directly)\n",
    "    # XPT is ASCII header \"HEADER RECORD*******LIBRARY HEADER RECORD!!!!!!!000000000000000000000000000000\"\n",
    "    if b\"LIBRARY HEADER RECORD\" in blob[:200]:\n",
    "        return blob\n",
    "\n",
    "    return None\n",
    "\n",
    "def normalize(df: pd.DataFrame, year: int) -> pd.DataFrame:\n",
    "    df = df.copy()\n",
    "    df.columns = [c.strip().lower() for c in df.columns]\n",
    "    df[\"year\"] = year\n",
    "    # Optional: add FIPS if _STATE/_CNTY are present in some years\n",
    "    if \"_state\" in df.columns:\n",
    "        s = pd.to_numeric(df[\"_state\"], errors=\"coerce\").astype(\"Int64\").astype(\"string\").str.zfill(2)\n",
    "        df[\"state_fips\"] = s\n",
    "    if \"_cnty\" in df.columns:\n",
    "        c = pd.to_numeric(df[\"_cnty\"], errors=\"coerce\").astype(\"Int64\").astype(\"string\").str.zfill(3)\n",
    "        df[\"fips\"] = (df.get(\"state_fips\", \"\") + c).where(df.get(\"state_fips\").notna(), None)\n",
    "    return df"
   ]
  },
  {
   "cell_type": "code",
   "execution_count": 10,
   "id": "0e9689be-5770-4836-b1fa-146418dcf013",
   "metadata": {},
   "outputs": [
    {
     "name": "stderr",
     "output_type": "stream",
     "text": [
      "BRFSS per-year: 100%|█████████████████████████████| 1/1 [00:01<00:00,  1.71s/it]"
     ]
    },
    {
     "name": "stdout",
     "output_type": "stream",
     "text": [
      "Done. Failures: 1\n"
     ]
    },
    {
     "name": "stderr",
     "output_type": "stream",
     "text": [
      "\n"
     ]
    }
   ],
   "source": [
    "# ---------- run (smoke test) ----------\n",
    "YEARS = [2019]  # try one year first\n",
    "failures = []\n",
    "\n",
    "for y in tqdm(YEARS, desc=\"BRFSS per-year\"):\n",
    "    csv_path = YEAR_DIR / f\"brfss_{y}.csv\"\n",
    "    pq_path  = YEAR_DIR / f\"brfss_{y}.parquet\"\n",
    "\n",
    "    if csv_path.exists() and pq_path.exists():\n",
    "        continue  # already have both\n",
    "\n",
    "    xpt_bytes = fetch_brfss_xpt(y)\n",
    "    if not xpt_bytes:\n",
    "        failures.append({\"year\": y, \"error\": \"no_xpt_found_or_bad_zip\"})\n",
    "        continue\n",
    "\n",
    "    try:\n",
    "        # pyreadstat accepts a file-like object\n",
    "        df, _ = pyreadstat.read_xport(io.BytesIO(xpt_bytes), apply_value_formats=False, formats_as_category=False)\n",
    "        df = normalize(df, y)\n",
    "        df.to_csv(csv_path, index=False)\n",
    "        try:\n",
    "            df.to_parquet(pq_path, index=False)\n",
    "        except Exception:\n",
    "            pass\n",
    "        print(f\"Saved {y}: rows={len(df):,}, cols={df.shape[1]}\")\n",
    "    except Exception as e:\n",
    "        failures.append({\"year\": y, \"error\": str(e)})\n",
    "\n",
    "(YEAR_DIR / \"_brfss_failures.json\").write_text(json.dumps(failures, indent=2))\n",
    "print(\"Done. Failures:\", len(failures))"
   ]
  },
  {
   "cell_type": "code",
   "execution_count": 11,
   "id": "b6c38ce5-2898-499c-9b2b-99df4a376a86",
   "metadata": {},
   "outputs": [
    {
     "name": "stdout",
     "output_type": "stream",
     "text": [
      "Attempting download: https://www.cdc.gov/brfss/annual_data/1990/files/CDBRFS90XPT.zip\n",
      "Status code: 200\n",
      "Downloaded successfully to: /Users/umichmads/brfss_project/data/raw/brfss_zips/CDBRFS90XPT.zip\n",
      "File size (MB): 8.79\n"
     ]
    }
   ],
   "source": [
    "import requests\n",
    "from pathlib import Path\n",
    "\n",
    "url = \"https://www.cdc.gov/brfss/annual_data/1990/files/CDBRFS90XPT.zip\"\n",
    "out = Path(\"data/raw/brfss_zips/CDBRFS90XPT.zip\")\n",
    "out.parent.mkdir(parents=True, exist_ok=True)\n",
    "\n",
    "print(\"Attempting download:\", url)\n",
    "resp = requests.get(url, timeout=60)\n",
    "print(\"Status code:\", resp.status_code)\n",
    "\n",
    "if resp.status_code == 200:\n",
    "    out.write_bytes(resp.content)\n",
    "    print(\"Downloaded successfully to:\", out.resolve())\n",
    "    print(\"File size (MB):\", round(out.stat().st_size / (1024*1024), 2))\n",
    "else:\n",
    "    print(\"Failed to download — status code:\", resp.status_code)"
   ]
  },
  {
   "cell_type": "code",
   "execution_count": 12,
   "id": "1a269fc4-18ed-4fc1-a27e-94589e58f4a3",
   "metadata": {},
   "outputs": [
    {
     "name": "stdout",
     "output_type": "stream",
     "text": [
      "Attempting download: https://www.cdc.gov/brfss/annual_data/1991/files/CDBRFS91XPT.zip\n",
      "Status code: 200\n",
      "Successfully downloaded to: /Users/umichmads/brfss_project/data/raw/brfss_zips/CDBRFS91XPT.zip\n",
      "File size (MB): 9.0\n"
     ]
    }
   ],
   "source": [
    "import requests\n",
    "from pathlib import Path\n",
    "\n",
    "url = \"https://www.cdc.gov/brfss/annual_data/1991/files/CDBRFS91XPT.zip\"\n",
    "out = Path(\"data/raw/brfss_zips/CDBRFS91XPT.zip\")\n",
    "out.parent.mkdir(parents=True, exist_ok=True)\n",
    "\n",
    "print(\"Attempting download:\", url)\n",
    "resp = requests.get(url, timeout=60)\n",
    "print(\"Status code:\", resp.status_code)\n",
    "\n",
    "if resp.status_code == 200:\n",
    "    out.write_bytes(resp.content)\n",
    "    print(\"Successfully downloaded to:\", out.resolve())\n",
    "    print(\"File size (MB):\", round(out.stat().st_size / (1024*1024), 2))\n",
    "else:\n",
    "    print(\"Download failed — status code:\", resp.status_code)"
   ]
  },
  {
   "cell_type": "code",
   "execution_count": null,
   "id": "386a552a-3fdd-45b4-9e9e-202f0a90dead",
   "metadata": {},
   "outputs": [],
   "source": []
  },
  {
   "cell_type": "code",
   "execution_count": 13,
   "id": "65756bc6-a963-446b-8e2c-038861811ff8",
   "metadata": {},
   "outputs": [
    {
     "name": "stdout",
     "output_type": "stream",
     "text": [
      "1990: already downloaded (CDBRFS90XPT.zip)\n",
      "1991: already downloaded (CDBRFS91XPT.zip)\n",
      "1992: downloading…\n",
      "1992: saved CDBRFS92XPT.zip, 9.78 MB\n",
      "1993: downloading…\n",
      "1993: saved CDBRFS93XPT.zip, 10.03 MB\n",
      "1994: downloading…\n",
      "1994: saved CDBRFS94XPT.zip, 11.89 MB\n",
      "1995: downloading…\n",
      "1995: saved CDBRFS95XPT.zip, 11.98 MB\n",
      "1996: downloading…\n",
      "1996: saved CDBRFS96XPT.zip, 16.25 MB\n",
      "1997: downloading…\n",
      "1997: saved CDBRFS97XPT.zip, 16.87 MB\n",
      "1998: downloading…\n",
      "1998: saved CDBRFS98XPT.zip, 21.42 MB\n",
      "1999: downloading…\n",
      "1999: saved CDBRFS99XPT.zip, 20.93 MB\n"
     ]
    }
   ],
   "source": [
    "import requests\n",
    "from pathlib import Path\n",
    "\n",
    "urls = {\n",
    "    1990: \"https://www.cdc.gov/brfss/annual_data/1990/files/CDBRFS90XPT.zip\",\n",
    "    1991: \"https://www.cdc.gov/brfss/annual_data/1991/files/CDBRFS91XPT.zip\",\n",
    "    1992: \"https://www.cdc.gov/brfss/annual_data/1992/files/CDBRFS92XPT.zip\",\n",
    "    1993: \"https://www.cdc.gov/brfss/annual_data/1993/files/CDBRFS93XPT.zip\",\n",
    "    1994: \"https://www.cdc.gov/brfss/annual_data/1994/files/CDBRFS94XPT.zip\",\n",
    "    1995: \"https://www.cdc.gov/brfss/annual_data/1995/files/CDBRFS95XPT.zip\",\n",
    "    1996: \"https://www.cdc.gov/brfss/annual_data/1996/files/CDBRFS96XPT.zip\",\n",
    "    1997: \"https://www.cdc.gov/brfss/annual_data/1997/files/CDBRFS97XPT.zip\",\n",
    "    1998: \"https://www.cdc.gov/brfss/annual_data/1998/files/CDBRFS98XPT.zip\",\n",
    "    1999: \"https://www.cdc.gov/brfss/annual_data/1999/files/CDBRFS99XPT.zip\",\n",
    "}\n",
    "\n",
    "OUT_DIR = Path(\"data/raw/brfss_zips\")\n",
    "OUT_DIR.mkdir(parents=True, exist_ok=True)\n",
    "\n",
    "for year, url in urls.items():\n",
    "    out_path = OUT_DIR / Path(url).name\n",
    "    if out_path.exists():\n",
    "        print(f\"{year}: already downloaded ({out_path.name})\")\n",
    "        continue\n",
    "    try:\n",
    "        print(f\"{year}: downloading…\")\n",
    "        resp = requests.get(url, timeout=120)\n",
    "        if resp.status_code == 200:\n",
    "            out_path.write_bytes(resp.content)\n",
    "            print(f\"{year}: saved {out_path.name}, {round(out_path.stat().st_size / (1024*1024), 2)} MB\")\n",
    "        else:\n",
    "            print(f\"{year}: failed with status {resp.status_code}\")\n",
    "    except Exception as e:\n",
    "        print(f\"{year}: error {e}\")"
   ]
  },
  {
   "cell_type": "code",
   "execution_count": null,
   "id": "b032c990-8957-42b0-806f-449514a37254",
   "metadata": {},
   "outputs": [],
   "source": []
  },
  {
   "cell_type": "code",
   "execution_count": 14,
   "id": "a9d25af7-67bb-422a-a5ab-09d835329303",
   "metadata": {},
   "outputs": [],
   "source": [
    "import requests\n",
    "from pathlib import Path\n",
    "\n",
    "# master URL dict (start empty, we’ll extend decade by decade)\n",
    "BRFSS_URLS = {}\n",
    "\n",
    "OUT_DIR = Path(\"data/raw/brfss_zips\")\n",
    "OUT_DIR.mkdir(parents=True, exist_ok=True)\n",
    "\n",
    "def add_urls(new_dict):\n",
    "    \"\"\"Safely extend master BRFSS_URLS with a new block of years.\"\"\"\n",
    "    overlap = set(new_dict).intersection(BRFSS_URLS)\n",
    "    if overlap:\n",
    "        print(\"⚠️ Warning: duplicate years found:\", overlap)\n",
    "    BRFSS_URLS.update(new_dict)\n",
    "\n",
    "def download_urls(url_dict):\n",
    "    \"\"\"Download all ZIPs for a given mapping of year->URL.\"\"\"\n",
    "    for year, url in url_dict.items():\n",
    "        out_path = OUT_DIR / Path(url).name\n",
    "        if out_path.exists():\n",
    "            print(f\"{year}: already downloaded ({out_path.name})\")\n",
    "            continue\n",
    "        try:\n",
    "            print(f\"{year}: downloading…\")\n",
    "            resp = requests.get(url, timeout=120)\n",
    "            if resp.status_code == 200:\n",
    "                out_path.write_bytes(resp.content)\n",
    "                print(f\"{year}: saved {out_path.name}, {round(out_path.stat().st_size/(1024*1024),2)} MB\")\n",
    "            else:\n",
    "                print(f\"{year}: failed with status {resp.status_code}\")\n",
    "        except Exception as e:\n",
    "            print(f\"{year}: error {e}\")"
   ]
  },
  {
   "cell_type": "code",
   "execution_count": 15,
   "id": "ed358406-f467-48d5-8fb9-9858268a038b",
   "metadata": {},
   "outputs": [
    {
     "name": "stdout",
     "output_type": "stream",
     "text": [
      "1990: already downloaded (CDBRFS90XPT.zip)\n",
      "1991: already downloaded (CDBRFS91XPT.zip)\n",
      "1992: already downloaded (CDBRFS92XPT.zip)\n",
      "1993: already downloaded (CDBRFS93XPT.zip)\n",
      "1994: already downloaded (CDBRFS94XPT.zip)\n",
      "1995: already downloaded (CDBRFS95XPT.zip)\n",
      "1996: already downloaded (CDBRFS96XPT.zip)\n",
      "1997: already downloaded (CDBRFS97XPT.zip)\n",
      "1998: already downloaded (CDBRFS98XPT.zip)\n",
      "1999: already downloaded (CDBRFS99XPT.zip)\n"
     ]
    }
   ],
   "source": [
    "# 1990–1999\n",
    "add_urls({\n",
    "    1990: \"https://www.cdc.gov/brfss/annual_data/1990/files/CDBRFS90XPT.zip\",\n",
    "    1991: \"https://www.cdc.gov/brfss/annual_data/1991/files/CDBRFS91XPT.zip\",\n",
    "    # ... up through 1999 ...\n",
    "    1992: \"https://www.cdc.gov/brfss/annual_data/1992/files/CDBRFS92XPT.zip\",\n",
    "    1993: \"https://www.cdc.gov/brfss/annual_data/1993/files/CDBRFS93XPT.zip\",\n",
    "    1994: \"https://www.cdc.gov/brfss/annual_data/1994/files/CDBRFS94XPT.zip\",\n",
    "    1995: \"https://www.cdc.gov/brfss/annual_data/1995/files/CDBRFS95XPT.zip\",\n",
    "    1996: \"https://www.cdc.gov/brfss/annual_data/1996/files/CDBRFS96XPT.zip\",\n",
    "    1997: \"https://www.cdc.gov/brfss/annual_data/1997/files/CDBRFS97XPT.zip\",\n",
    "    1998: \"https://www.cdc.gov/brfss/annual_data/1998/files/CDBRFS98XPT.zip\",\n",
    "    1999: \"https://www.cdc.gov/brfss/annual_data/1999/files/CDBRFS99XPT.zip\",\n",
    "})\n",
    "download_urls({y: BRFSS_URLS[y] for y in range(1990, 2000)})"
   ]
  },
  {
   "cell_type": "code",
   "execution_count": 16,
   "id": "cb2d9bcf-6b38-4c9a-be88-da4ae4f7f22f",
   "metadata": {},
   "outputs": [
    {
     "name": "stdout",
     "output_type": "stream",
     "text": [
      "2000: downloading…\n",
      "2000: saved CDBRFS00XPT.ZIP, 25.84 MB\n",
      "2001: downloading…\n",
      "2001: saved CDBRFS01XPT.zip, 32.39 MB\n",
      "2002: downloading…\n",
      "2002: saved CDBRFS02XPT.ZIP, 46.27 MB\n",
      "2003: downloading…\n",
      "2003: saved CDBRFS03XPT.ZIP, 48.19 MB\n",
      "2004: downloading…\n",
      "2004: saved CDBRFS04XPT.zip, 41.42 MB\n",
      "2005: downloading…\n",
      "2005: saved CDBRFS05XPT.zip, 66.72 MB\n",
      "2006: downloading…\n",
      "2006: saved CDBRFS06XPT.ZIP, 60.78 MB\n",
      "2007: downloading…\n",
      "2007: saved CDBRFS07XPT.ZIP, 100.81 MB\n",
      "2008: downloading…\n",
      "2008: saved CDBRFS08XPT.ZIP, 78.57 MB\n",
      "2009: downloading…\n",
      "2009: saved CDBRFS09XPT.ZIP, 107.33 MB\n"
     ]
    }
   ],
   "source": [
    "# 2000–2010\n",
    "add_urls({\n",
    "    2000: \"https://www.cdc.gov/brfss/annual_data/2000/files/CDBRFS00XPT.ZIP\",\n",
    "    # ... up through 2010 ...\n",
    "    2001: \"https://www.cdc.gov/brfss/annual_data/2001/files/CDBRFS01XPT.zip\",\n",
    "    2002: \"https://www.cdc.gov/brfss/annual_data/2002/files/CDBRFS02XPT.ZIP\",\n",
    "    2003: \"https://www.cdc.gov/brfss/annual_data/2003/files/CDBRFS03XPT.ZIP\",\n",
    "    2004: \"https://www.cdc.gov/brfss/annual_data/2004/files/CDBRFS04XPT.zip\",\n",
    "    2005: \"https://www.cdc.gov/brfss/annual_data/2005/files/CDBRFS05XPT.zip\",\n",
    "    2006: \"https://www.cdc.gov/brfss/annual_data/2006/files/CDBRFS06XPT.ZIP\",\n",
    "    2007: \"https://www.cdc.gov/brfss/annual_data/2007/files/CDBRFS07XPT.ZIP\",\n",
    "    2008: \"https://www.cdc.gov/brfss/annual_data/2008/files/CDBRFS08XPT.ZIP\",\n",
    "    2009: \"https://www.cdc.gov/brfss/annual_data/2009/files/CDBRFS09XPT.ZIP\",\n",
    "})\n",
    "download_urls({y: BRFSS_URLS[y] for y in range(2000, 2010)})"
   ]
  },
  {
   "cell_type": "code",
   "execution_count": 17,
   "id": "258fa516-7d0e-4315-8bca-6fa9f588dc91",
   "metadata": {},
   "outputs": [
    {
     "name": "stdout",
     "output_type": "stream",
     "text": [
      "2010: downloading…\n",
      "2010: saved CDBRFS10XPT.zip, 96.21 MB\n",
      "2011: downloading…\n",
      "2011: saved LLCP2011XPT.ZIP, 125.45 MB\n",
      "2012: downloading…\n",
      "2012: saved LLCP2012XPT.ZIP, 90.99 MB\n",
      "2013: downloading…\n",
      "2013: saved LLCP2013XPT.ZIP, 123.0 MB\n",
      "2014: downloading…\n",
      "2014: saved LLCP2014XPT.ZIP, 68.9 MB\n",
      "2015: downloading…\n",
      "2015: saved LLCP2015XPT.zip, 94.26 MB\n",
      "2016: downloading…\n",
      "2016: saved LLCP2016XPT.zip, 79.5 MB\n",
      "2017: downloading…\n",
      "2017: saved LLCP2017XPT.zip, 101.79 MB\n",
      "2018: downloading…\n",
      "2018: saved LLCP2018XPT.zip, 69.48 MB\n",
      "2019: downloading…\n",
      "2019: saved LLCP2019XPT.zip, 93.43 MB\n"
     ]
    }
   ],
   "source": [
    "# 2010–2019\n",
    "add_urls({\n",
    "    2010: \"https://www.cdc.gov/brfss/annual_data/2010/files/CDBRFS10XPT.zip\",\n",
    "    2011: \"https://www.cdc.gov/brfss/annual_data/2011/files/LLCP2011XPT.ZIP\",\n",
    "    2012: \"https://www.cdc.gov/brfss/annual_data/2012/files/LLCP2012XPT.ZIP\",\n",
    "    2013: \"https://www.cdc.gov/brfss/annual_data/2013/files/LLCP2013XPT.ZIP\",\n",
    "    2014: \"https://www.cdc.gov/brfss/annual_data/2014/files/LLCP2014XPT.ZIP\",\n",
    "    2015: \"https://www.cdc.gov/brfss/annual_data/2015/files/LLCP2015XPT.zip\",\n",
    "    2016: \"https://www.cdc.gov/brfss/annual_data/2016/files/LLCP2016XPT.zip\",\n",
    "    2017: \"https://www.cdc.gov/brfss/annual_data/2017/files/LLCP2017XPT.zip\",\n",
    "    2018: \"https://www.cdc.gov/brfss/annual_data/2018/files/LLCP2018XPT.zip\",\n",
    "    2019: \"https://www.cdc.gov/brfss/annual_data/2019/files/LLCP2019XPT.zip\",\n",
    "})\n",
    "\n",
    "download_urls({y: BRFSS_URLS[y] for y in range(2010, 2020)})"
   ]
  },
  {
   "cell_type": "code",
   "execution_count": 18,
   "id": "0cbb756b-9cdd-4057-bc37-5eb09318b3bf",
   "metadata": {},
   "outputs": [
    {
     "name": "stdout",
     "output_type": "stream",
     "text": [
      "2020: downloading…\n",
      "2020: saved LLCP2020XPT.zip, 64.37 MB\n",
      "2021: downloading…\n",
      "2021: saved LLCP2021XPT.zip, 77.82 MB\n",
      "2022: downloading…\n",
      "2022: saved LLCP2022XPT.zip, 80.69 MB\n",
      "2023: downloading…\n",
      "2023: saved LLCP2023XPT.zip, 88.92 MB\n"
     ]
    }
   ],
   "source": [
    "# 2020–2023\n",
    "add_urls({\n",
    "    2020: \"https://www.cdc.gov/brfss/annual_data/2020/files/LLCP2020XPT.zip\",\n",
    "    2021: \"https://www.cdc.gov/brfss/annual_data/2021/files/LLCP2021XPT.zip\",\n",
    "    2022: \"https://www.cdc.gov/brfss/annual_data/2022/files/LLCP2022XPT.zip\",\n",
    "    2023: \"https://www.cdc.gov/brfss/annual_data/2023/files/LLCP2023XPT.zip\",\n",
    "})\n",
    "\n",
    "download_urls({y: BRFSS_URLS[y] for y in range(2020, 2024)})"
   ]
  },
  {
   "cell_type": "code",
   "execution_count": null,
   "id": "d72a2b19-a110-4a17-805a-0244ce37f054",
   "metadata": {},
   "outputs": [],
   "source": []
  },
  {
   "cell_type": "code",
   "execution_count": null,
   "id": "b02100ed-ac42-4aea-8f86-421bcc6adac7",
   "metadata": {},
   "outputs": [],
   "source": []
  }
 ],
 "metadata": {
  "kernelspec": {
   "display_name": "Python (brfss_env)",
   "language": "python",
   "name": "brfss_env"
  },
  "language_info": {
   "codemirror_mode": {
    "name": "ipython",
    "version": 3
   },
   "file_extension": ".py",
   "mimetype": "text/x-python",
   "name": "python",
   "nbconvert_exporter": "python",
   "pygments_lexer": "ipython3",
   "version": "3.12.0"
  }
 },
 "nbformat": 4,
 "nbformat_minor": 5
}
