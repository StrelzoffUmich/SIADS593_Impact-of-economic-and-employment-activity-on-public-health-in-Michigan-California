{
 "cells": [
  {
   "cell_type": "markdown",
   "id": "2506528e",
   "metadata": {},
   "source": [
    "\n",
    "# BRFSS Downloader — Per‑Year Pull & Parse (1990–2023)\n",
    "\n",
    "This notebook downloads **BRFSS annual survey ZIPs** from CDC for 1990–2023, extracts the **SAS XPT** file in each ZIP, parses it with `pyreadstat`, and saves **per‑year CSV + Parquet**.\n",
    "\n",
    "- Output ZIPs: `data/raw/brfss_zips/`\n",
    "- Per‑year tables: `data/raw/brfss_year/` -> `brfss_<year>.csv` and (if pyarrow installed) `brfss_<year>.parquet`  \n",
    "- Resume‑safe: already-downloaded/parsed years are skipped\n",
    "- Failures are logged to `data/raw/brfss_year/_brfss_failures.json` so you can retry specific years\n",
    "\n",
    "> Tip: Run the **smoke test** cell (single year) before launching decade blocks.\n"
   ]
  },
  {
   "cell_type": "markdown",
   "id": "6107b044",
   "metadata": {},
   "source": [
    "\n",
    "## Prereqs\n",
    "\n",
    "- Python 3.10+ recommended\n",
    "- Install dependencies (see `requirements.txt`):\n",
    "  ```bash\n",
    "  pip install -r requirements.txt\n",
    "  ```\n",
    "\n",
    "- Run this notebook from the project root (so `data/` folders are created as shown).\n"
   ]
  },
  {
   "cell_type": "code",
   "execution_count": 1,
   "id": "715ef415",
   "metadata": {},
   "outputs": [
    {
     "name": "stdout",
     "output_type": "stream",
     "text": [
      "ZIPs dir: /Users/umichmads/brfss_project/data/raw/brfss_zips\n",
      "Year dir: /Users/umichmads/brfss_project/data/raw/brfss_year\n"
     ]
    }
   ],
   "source": [
    "\n",
    "# --- imports & folders ---\n",
    "from pathlib import Path\n",
    "import io, zipfile, json\n",
    "import requests\n",
    "import pandas as pd\n",
    "import pyreadstat\n",
    "from tqdm import tqdm\n",
    "\n",
    "# output structure\n",
    "ZIPS_DIR = Path(\"data/raw/brfss_zips\")\n",
    "YEAR_DIR = Path(\"data/raw/brfss_year\")\n",
    "ZIPS_DIR.mkdir(parents=True, exist_ok=True)\n",
    "YEAR_DIR.mkdir(parents=True, exist_ok=True)\n",
    "\n",
    "print(\"ZIPs dir:\", ZIPS_DIR.resolve())\n",
    "print(\"Year dir:\", YEAR_DIR.resolve())\n"
   ]
  },
  {
   "cell_type": "markdown",
   "id": "bfa3e401",
   "metadata": {},
   "source": [
    "\n",
    "## Master URL Map (1990–2023)\n",
    "\n",
    "This is the set that worked in quick tests. You can add 1989 later if CDC publishes a public ZIP.\n"
   ]
  },
  {
   "cell_type": "code",
   "execution_count": 2,
   "id": "83f019ca",
   "metadata": {},
   "outputs": [
    {
     "data": {
      "text/plain": [
       "([1990, 1991, 1992, 1993, 1994], [2019, 2020, 2021, 2022, 2023])"
      ]
     },
     "execution_count": 2,
     "metadata": {},
     "output_type": "execute_result"
    }
   ],
   "source": [
    "\n",
    "# master URL dict (1990–2023)\n",
    "BRFSS_URLS = {\n",
    "    1990: \"https://www.cdc.gov/brfss/annual_data/1990/files/CDBRFS90XPT.zip\",\n",
    "    1991: \"https://www.cdc.gov/brfss/annual_data/1991/files/CDBRFS91XPT.zip\",\n",
    "    1992: \"https://www.cdc.gov/brfss/annual_data/1992/files/CDBRFS92XPT.zip\",\n",
    "    1993: \"https://www.cdc.gov/brfss/annual_data/1993/files/CDBRFS93XPT.zip\",\n",
    "    1994: \"https://www.cdc.gov/brfss/annual_data/1994/files/CDBRFS94XPT.zip\",\n",
    "    1995: \"https://www.cdc.gov/brfss/annual_data/1995/files/CDBRFS95XPT.zip\",\n",
    "    1996: \"https://www.cdc.gov/brfss/annual_data/1996/files/CDBRFS96XPT.zip\",\n",
    "    1997: \"https://www.cdc.gov/brfss/annual_data/1997/files/CDBRFS97XPT.zip\",\n",
    "    1998: \"https://www.cdc.gov/brfss/annual_data/1998/files/CDBRFS98XPT.zip\",\n",
    "    1999: \"https://www.cdc.gov/brfss/annual_data/1999/files/CDBRFS99XPT.zip\",\n",
    "    2000: \"https://www.cdc.gov/brfss/annual_data/2000/files/CDBRFS00XPT.ZIP\",\n",
    "    2001: \"https://www.cdc.gov/brfss/annual_data/2001/files/CDBRFS01XPT.zip\",\n",
    "    2002: \"https://www.cdc.gov/brfss/annual_data/2002/files/CDBRFS02XPT.ZIP\",\n",
    "    2003: \"https://www.cdc.gov/brfss/annual_data/2003/files/CDBRFS03XPT.ZIP\",\n",
    "    2004: \"https://www.cdc.gov/brfss/annual_data/2004/files/CDBRFS04XPT.zip\",\n",
    "    2005: \"https://www.cdc.gov/brfss/annual_data/2005/files/CDBRFS05XPT.zip\",\n",
    "    2006: \"https://www.cdc.gov/brfss/annual_data/2006/files/CDBRFS06XPT.ZIP\",\n",
    "    2007: \"https://www.cdc.gov/brfss/annual_data/2007/files/CDBRFS07XPT.ZIP\",\n",
    "    2008: \"https://www.cdc.gov/brfss/annual_data/2008/files/CDBRFS08XPT.ZIP\",\n",
    "    2009: \"https://www.cdc.gov/brfss/annual_data/2009/files/CDBRFS09XPT.ZIP\",\n",
    "    2010: \"https://www.cdc.gov/brfss/annual_data/2010/files/CDBRFS10XPT.zip\",\n",
    "    2011: \"https://www.cdc.gov/brfss/annual_data/2011/files/LLCP2011XPT.ZIP\",\n",
    "    2012: \"https://www.cdc.gov/brfss/annual_data/2012/files/LLCP2012XPT.ZIP\",\n",
    "    2013: \"https://www.cdc.gov/brfss/annual_data/2013/files/LLCP2013XPT.ZIP\",\n",
    "    2014: \"https://www.cdc.gov/brfss/annual_data/2014/files/LLCP2014XPT.ZIP\",\n",
    "    2015: \"https://www.cdc.gov/brfss/annual_data/2015/files/LLCP2015XPT.zip\",\n",
    "    2016: \"https://www.cdc.gov/brfss/annual_data/2016/files/LLCP2016XPT.zip\",\n",
    "    2017: \"https://www.cdc.gov/brfss/annual_data/2017/files/LLCP2017XPT.zip\",\n",
    "    2018: \"https://www.cdc.gov/brfss/annual_data/2018/files/LLCP2018XPT.zip\",\n",
    "    2019: \"https://www.cdc.gov/brfss/annual_data/2019/files/LLCP2019XPT.zip\",\n",
    "    2020: \"https://www.cdc.gov/brfss/annual_data/2020/files/LLCP2020XPT.zip\",\n",
    "    2021: \"https://www.cdc.gov/brfss/annual_data/2021/files/LLCP2021XPT.zip\",\n",
    "    2022: \"https://www.cdc.gov/brfss/annual_data/2022/files/LLCP2022XPT.zip\",\n",
    "    2023: \"https://www.cdc.gov/brfss/annual_data/2023/files/LLCP2023XPT.zip\",\n",
    "}\n",
    "sorted(BRFSS_URLS)[:5], sorted(BRFSS_URLS)[-5:]\n"
   ]
  },
  {
   "cell_type": "markdown",
   "id": "20ce75fb",
   "metadata": {},
   "source": [
    "## Helpers (download ZIP, extract XPT, parse, normalize, save)"
   ]
  },
  {
   "cell_type": "code",
   "execution_count": 3,
   "id": "51049f41",
   "metadata": {},
   "outputs": [],
   "source": [
    "\n",
    "def download_zip(year: int) -> Path | None:\n",
    "    \"\"\"Download the ZIP for a year to ZIPS_DIR; return Path or None on failure.\"\"\"\n",
    "    url = BRFSS_URLS.get(year)\n",
    "    if not url:\n",
    "        print(f\"{year}: no URL configured\")\n",
    "        return None\n",
    "    out_path = ZIPS_DIR / Path(url).name\n",
    "    if out_path.exists():\n",
    "        return out_path\n",
    "    try:\n",
    "        r = requests.get(url, timeout=180)\n",
    "        if r.status_code == 200:\n",
    "            out_path.write_bytes(r.content)\n",
    "            return out_path\n",
    "        print(f\"{year}: HTTP {r.status_code}\")\n",
    "        return None\n",
    "    except Exception as e:\n",
    "        print(f\"{year}: download error -> {e}\")\n",
    "        return None\n",
    "\n",
    "def extract_xpt_bytes(zip_path: Path) -> bytes | None:\n",
    "    \"\"\"Return the first *.xpt file bytes from a ZIP.\"\"\"\n",
    "    try:\n",
    "        with zipfile.ZipFile(zip_path, \"r\") as zf:\n",
    "            names = [n for n in zf.namelist() if n.lower().endswith(\".xpt\")]\n",
    "            if not names:\n",
    "                return None\n",
    "            with zf.open(names[0]) as f:\n",
    "                return f.read()\n",
    "    except Exception as e:\n",
    "        print(\"zip error:\", e)\n",
    "        return None\n",
    "\n",
    "def normalize(df: pd.DataFrame, year: int) -> pd.DataFrame:\n",
    "    \"\"\"Minimal normalization: lowercase columns + add 'year' and optional 'fips' if _STATE/_CNTY exist.\"\"\"\n",
    "    df = df.copy()\n",
    "    df.columns = [c.strip().lower() for c in df.columns]\n",
    "    df[\"year\"] = year\n",
    "    if \"_state\" in df.columns:\n",
    "        s = pd.to_numeric(df[\"_state\"], errors=\"coerce\").astype(\"Int64\").astype(\"string\").str.zfill(2)\n",
    "        df[\"state_fips\"] = s\n",
    "    if \"_cnty\" in df.columns:\n",
    "        c = pd.to_numeric(df[\"_cnty\"], errors=\"coerce\").astype(\"Int64\").astype(\"string\").str.zfill(3)\n",
    "        df[\"fips\"] = (df.get(\"state_fips\", \"\") + c).where(df.get(\"state_fips\").notna(), None)\n",
    "    return df\n",
    "\n",
    "def parse_and_save(year: int) -> dict:\n",
    "    \"\"\"Parse one year and save CSV + Parquet (if available). Returns a summary dict.\"\"\"\n",
    "    csv_path = YEAR_DIR / f\"brfss_{year}.csv\"\n",
    "    pq_path  = YEAR_DIR / f\"brfss_{year}.parquet\"\n",
    "\n",
    "    if csv_path.exists():  # resume-safe: treat as done if CSV exists\n",
    "        return {\"year\": year, \"status\": \"skipped_existing\", \"rows\": None, \"cols\": None}\n",
    "\n",
    "    zf = download_zip(year)\n",
    "    if not zf:\n",
    "        return {\"year\": year, \"status\": \"download_failed\", \"rows\": None, \"cols\": None}\n",
    "\n",
    "    xpt_bytes = extract_xpt_bytes(zf)\n",
    "    if not xpt_bytes:\n",
    "        return {\"year\": year, \"status\": \"no_xpt_in_zip\", \"rows\": None, \"cols\": None}\n",
    "\n",
    "    try:\n",
    "        df, _ = pyreadstat.read_xport(io.BytesIO(xpt_bytes), apply_value_formats=False, formats_as_category=False)\n",
    "        df = normalize(df, year)\n",
    "        df.to_csv(csv_path, index=False)\n",
    "        try:\n",
    "            df.to_parquet(pq_path, index=False)\n",
    "        except Exception:\n",
    "            pass\n",
    "        return {\"year\": year, \"status\": \"ok\", \"rows\": int(len(df)), \"cols\": int(df.shape[1])}\n",
    "    except Exception as e:\n",
    "        return {\"year\": year, \"status\": f\"parse_error: {e}\", \"rows\": None, \"cols\": None}\n"
   ]
  },
  {
   "cell_type": "markdown",
   "id": "d0650fa5",
   "metadata": {},
   "source": [
    "## Smoke test — run one year first"
   ]
  },
  {
   "cell_type": "code",
   "execution_count": 4,
   "id": "e920733a",
   "metadata": {},
   "outputs": [
    {
     "name": "stdout",
     "output_type": "stream",
     "text": [
      "Processing 2019…\n"
     ]
    },
    {
     "data": {
      "text/plain": [
       "{'year': 2019, 'status': 'no_xpt_in_zip', 'rows': None, 'cols': None}"
      ]
     },
     "execution_count": 4,
     "metadata": {},
     "output_type": "execute_result"
    }
   ],
   "source": [
    "\n",
    "test_year = 2019\n",
    "print(f\"Processing {test_year}…\")\n",
    "summary = parse_and_save(test_year)\n",
    "summary\n"
   ]
  },
  {
   "cell_type": "markdown",
   "id": "b7d7da33",
   "metadata": {},
   "source": [
    "\n",
    "## Batch runs (decade blocks)\n",
    "\n",
    "Uncomment and run a block when you're ready. Each block resumes and skips already‑processed years.\n"
   ]
  },
  {
   "cell_type": "code",
   "execution_count": 5,
   "id": "0d1d6c03",
   "metadata": {},
   "outputs": [
    {
     "name": "stderr",
     "output_type": "stream",
     "text": [
      "100%|███████████████████████████████████████████| 10/10 [00:00<00:00, 11.71it/s]\n"
     ]
    },
    {
     "data": {
      "text/plain": [
       "[{'year': 1990,\n",
       "  'status': \"parse_error: read_xport() got an unexpected keyword argument 'apply_value_formats'\",\n",
       "  'rows': None,\n",
       "  'cols': None},\n",
       " {'year': 1991,\n",
       "  'status': \"parse_error: read_xport() got an unexpected keyword argument 'apply_value_formats'\",\n",
       "  'rows': None,\n",
       "  'cols': None},\n",
       " {'year': 1992,\n",
       "  'status': \"parse_error: read_xport() got an unexpected keyword argument 'apply_value_formats'\",\n",
       "  'rows': None,\n",
       "  'cols': None},\n",
       " {'year': 1993,\n",
       "  'status': \"parse_error: read_xport() got an unexpected keyword argument 'apply_value_formats'\",\n",
       "  'rows': None,\n",
       "  'cols': None},\n",
       " {'year': 1994,\n",
       "  'status': \"parse_error: read_xport() got an unexpected keyword argument 'apply_value_formats'\",\n",
       "  'rows': None,\n",
       "  'cols': None},\n",
       " {'year': 1995,\n",
       "  'status': \"parse_error: read_xport() got an unexpected keyword argument 'apply_value_formats'\",\n",
       "  'rows': None,\n",
       "  'cols': None},\n",
       " {'year': 1996,\n",
       "  'status': \"parse_error: read_xport() got an unexpected keyword argument 'apply_value_formats'\",\n",
       "  'rows': None,\n",
       "  'cols': None},\n",
       " {'year': 1997,\n",
       "  'status': \"parse_error: read_xport() got an unexpected keyword argument 'apply_value_formats'\",\n",
       "  'rows': None,\n",
       "  'cols': None},\n",
       " {'year': 1998,\n",
       "  'status': \"parse_error: read_xport() got an unexpected keyword argument 'apply_value_formats'\",\n",
       "  'rows': None,\n",
       "  'cols': None},\n",
       " {'year': 1999,\n",
       "  'status': \"parse_error: read_xport() got an unexpected keyword argument 'apply_value_formats'\",\n",
       "  'rows': None,\n",
       "  'cols': None}]"
      ]
     },
     "execution_count": 5,
     "metadata": {},
     "output_type": "execute_result"
    }
   ],
   "source": [
    "\n",
    "# 1990–1999\n",
    "results_90s = [parse_and_save(y) for y in tqdm(range(1990, 2000))]\n",
    "results_90s\n"
   ]
  },
  {
   "cell_type": "code",
   "execution_count": null,
   "id": "259ad0e7",
   "metadata": {},
   "outputs": [],
   "source": [
    "\n",
    "# # 2000–2009\n",
    "# results_00s = [parse_and_save(y) for y in tqdm(range(2000, 2010))]\n",
    "# results_00s\n"
   ]
  },
  {
   "cell_type": "code",
   "execution_count": null,
   "id": "4e3cc8f6",
   "metadata": {},
   "outputs": [],
   "source": [
    "\n",
    "# # 2010–2019\n",
    "# results_10s = [parse_and_save(y) for y in tqdm(range(2010, 2020))]\n",
    "# results_10s\n"
   ]
  },
  {
   "cell_type": "code",
   "execution_count": null,
   "id": "af0763a4",
   "metadata": {},
   "outputs": [],
   "source": [
    "\n",
    "# # 2020–2023\n",
    "# results_20s = [parse_and_save(y) for y in tqdm(range(2020, 2024))]\n",
    "# results_20s\n"
   ]
  },
  {
   "cell_type": "markdown",
   "id": "4ab43acb",
   "metadata": {},
   "source": [
    "## Inventory what we have so far"
   ]
  },
  {
   "cell_type": "code",
   "execution_count": null,
   "id": "7ba47439",
   "metadata": {},
   "outputs": [],
   "source": [
    "\n",
    "from glob import glob\n",
    "import os\n",
    "\n",
    "csvs = sorted(glob(str(YEAR_DIR / \"brfss_*.csv\")))\n",
    "print(\"CSV years:\", [Path(p).stem.split(\"_\")[1] for p in csvs][:10], \"... total\", len(csvs))\n",
    "sizes = {Path(p).name: round(os.path.getsize(p)/(1024*1024),2) for p in csvs}\n",
    "list(sizes.items())[:5]\n"
   ]
  }
 ],
 "metadata": {
  "kernelspec": {
   "display_name": "Python (brfss_env)",
   "language": "python",
   "name": "brfss_env"
  },
  "language_info": {
   "codemirror_mode": {
    "name": "ipython",
    "version": 3
   },
   "file_extension": ".py",
   "mimetype": "text/x-python",
   "name": "python",
   "nbconvert_exporter": "python",
   "pygments_lexer": "ipython3",
   "version": "3.12.0"
  }
 },
 "nbformat": 4,
 "nbformat_minor": 5
}
